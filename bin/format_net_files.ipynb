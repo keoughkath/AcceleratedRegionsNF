{
 "cells": [
  {
   "cell_type": "code",
   "execution_count": 1,
   "metadata": {},
   "outputs": [],
   "source": [
    "import pandas as pd\n",
    "from pybedtools import BedTool"
   ]
  },
  {
   "cell_type": "code",
   "execution_count": 29,
   "metadata": {},
   "outputs": [],
   "source": [
    "def net_to_bed(df):  \n",
    "    \n",
    "    level1or2_nongap = BedTool.from_dataframe(df.query('(level == 1 or level == 2) and type != \"gap\"')[['qName','qStart','qEnd']]).subtract(BedTool.from_dataframe(df.query('(level == 1 or level == 2) and type == \"gap\"')[['qName','qStart','qEnd']])).sort().merge().to_dataframe().reset_index(drop=True)\n",
    "\n",
    "    level1or2_nongap['id'] = level1or2_nongap.index.copy()\n",
    "    return level1or2_nongap"
   ]
  },
  {
   "cell_type": "markdown",
   "metadata": {},
   "source": [
    "Formatting chain files to filter phastCons elements:\n",
    "\n",
    "Most info from [UCSC](https://genome.ucsc.edu/cgi-bin/hgc?hgsid=755908953_Y1Bx48Lgbp8d9y6CJK5dSlaErEo4&c=chr1&l=1971028&r=1971216&o=1971028&t=1971216&g=netRheMac10&i=2)\n",
    "\n",
    "**top**: best, longest match, often contains gaps\n",
    "**levels to include**: 1 or 2, remove gaps\n",
    "This has to be done in two steps because gap regions overlap non-gap regions. \n",
    "\n",
    "hg38 is query genome\n",
    "\n",
    "Get files from UCSC Table Browser (part of Genome Browser)\n",
    "Go to table browser\n",
    "genome of non-human species, version of genome from multiz alignment (probaby a few out of date, e.g. canfam3 for dog)\n",
    "Net with hg38\n",
    "include all fields\n",
    "because you're going from the perspective of the nonhuman genome, hg38 is the query genome\n",
    "panTro4 apparently doesn't have a net file with hg38"
   ]
  },
  {
   "cell_type": "code",
   "execution_count": 32,
   "metadata": {},
   "outputs": [],
   "source": [
    "# load net files\n",
    "\n",
    "dog_net = pd.read_csv('../net_files/canFam3_hg38.net',\n",
    "                       sep='\\t')\n",
    "\n",
    "mouse_net = pd.read_csv('../net_files/mm10_hg38.net',\n",
    "                       sep='\\t')\n",
    "\n",
    "macaque_net = pd.read_csv('../net_files/rheMac3_hg38.net',\n",
    "                       sep='\\t')\n",
    "\n"
   ]
  },
  {
   "cell_type": "code",
   "execution_count": 75,
   "metadata": {},
   "outputs": [],
   "source": [
    "dog_bed = net_to_bed(dog_net)\n",
    "\n",
    "mouse_bed = net_to_bed(mouse_net)\n",
    "\n",
    "macaque_bed = net_to_bed(macaque_net)"
   ]
  },
  {
   "cell_type": "code",
   "execution_count": 76,
   "metadata": {},
   "outputs": [],
   "source": [
    "dog_bed.to_csv('../net_files/dog_hg38.sorted.bed',\n",
    "              sep='\\t', header=False, index=False)\n",
    "\n",
    "mouse_bed.to_csv('../net_files/mouse_hg38.sorted.bed',\n",
    "              sep='\\t', header=False, index=False)\n",
    "\n",
    "macaque_bed.to_csv('../net_files/rhesus_hg38.sorted.bed',\n",
    "              sep='\\t', header=False, index=False)\n",
    "\n"
   ]
  },
  {
   "cell_type": "code",
   "execution_count": null,
   "metadata": {},
   "outputs": [],
   "source": []
  }
 ],
 "metadata": {
  "kernelspec": {
   "display_name": "Python 3",
   "language": "python",
   "name": "python3"
  },
  "language_info": {
   "codemirror_mode": {
    "name": "ipython",
    "version": 3
   },
   "file_extension": ".py",
   "mimetype": "text/x-python",
   "name": "python",
   "nbconvert_exporter": "python",
   "pygments_lexer": "ipython3",
   "version": "3.6.10"
  },
  "toc": {
   "base_numbering": 1,
   "nav_menu": {},
   "number_sections": true,
   "sideBar": true,
   "skip_h1_title": false,
   "title_cell": "Table of Contents",
   "title_sidebar": "Contents",
   "toc_cell": false,
   "toc_position": {},
   "toc_section_display": true,
   "toc_window_display": false
  }
 },
 "nbformat": 4,
 "nbformat_minor": 2
}
